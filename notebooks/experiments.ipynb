{
 "cells": [
  {
   "cell_type": "code",
   "execution_count": 1,
   "metadata": {},
   "outputs": [],
   "source": [
    "import pandas as pd\n",
    "import numpy as np\n",
    "\n",
    "import os"
   ]
  },
  {
   "cell_type": "code",
   "execution_count": 2,
   "metadata": {},
   "outputs": [],
   "source": [
    "TARGET_DIR = \"/root/histology_lib/data/target.csv\""
   ]
  },
  {
   "cell_type": "code",
   "execution_count": 3,
   "metadata": {},
   "outputs": [],
   "source": [
    "df = pd.read_csv(TARGET_DIR)"
   ]
  },
  {
   "cell_type": "code",
   "execution_count": 4,
   "metadata": {},
   "outputs": [],
   "source": [
    "full_path = []\n",
    "patient_folders = os.listdir(\"/root/histology_lib/data/processed_predicted_images\")\n",
    "for i in df[\"Псевдоним папки\"].values:\n",
    "    if i in patient_folders:\n",
    "        full_path.append(f\"/root/histology_lib/data/processed_predicted_images/{i}\")\n",
    "    else:\n",
    "        full_path.append(\"None\")"
   ]
  },
  {
   "cell_type": "code",
   "execution_count": 5,
   "metadata": {},
   "outputs": [],
   "source": [
    "df[\"path\"] = full_path"
   ]
  },
  {
   "cell_type": "code",
   "execution_count": 8,
   "metadata": {},
   "outputs": [
    {
     "data": {
      "text/plain": [
       "array(['Пилоидная астроцитома', 'Диффузная астроцитома',\n",
       "       'Олигоастроцитома', 'Анапластическая астроцитома', 'Глиобластома',\n",
       "       'Плеоморфная ксантоастроцитома', 'Олигодендроглиома',\n",
       "       'Анапластическая олигодендроглиома',\n",
       "       'Анапластическая олигоастроцитома'], dtype=object)"
      ]
     },
     "execution_count": 8,
     "metadata": {},
     "output_type": "execute_result"
    }
   ],
   "source": [
    "df[\"Target 1 - Гистологический класс\"].unique()"
   ]
  },
  {
   "cell_type": "code",
   "execution_count": 9,
   "metadata": {},
   "outputs": [
    {
     "data": {
      "text/plain": [
       "0       /root/histology_lib/data/processed_predicted_i...\n",
       "1       /root/histology_lib/data/processed_predicted_i...\n",
       "2                                                    None\n",
       "3       /root/histology_lib/data/processed_predicted_i...\n",
       "4       /root/histology_lib/data/processed_predicted_i...\n",
       "                              ...                        \n",
       "1043    /root/histology_lib/data/processed_predicted_i...\n",
       "1044    /root/histology_lib/data/processed_predicted_i...\n",
       "1045    /root/histology_lib/data/processed_predicted_i...\n",
       "1046    /root/histology_lib/data/processed_predicted_i...\n",
       "1047    /root/histology_lib/data/processed_predicted_i...\n",
       "Name: path, Length: 1048, dtype: object"
      ]
     },
     "execution_count": 9,
     "metadata": {},
     "output_type": "execute_result"
    }
   ],
   "source": [
    "df.path"
   ]
  },
  {
   "cell_type": "code",
   "execution_count": 6,
   "metadata": {},
   "outputs": [
    {
     "data": {
      "text/html": [
       "<div>\n",
       "<style scoped>\n",
       "    .dataframe tbody tr th:only-of-type {\n",
       "        vertical-align: middle;\n",
       "    }\n",
       "\n",
       "    .dataframe tbody tr th {\n",
       "        vertical-align: top;\n",
       "    }\n",
       "\n",
       "    .dataframe thead th {\n",
       "        text-align: right;\n",
       "    }\n",
       "</style>\n",
       "<table border=\"1\" class=\"dataframe\">\n",
       "  <thead>\n",
       "    <tr style=\"text-align: right;\">\n",
       "      <th></th>\n",
       "      <th>ID</th>\n",
       "      <th>Псевдоним папки</th>\n",
       "      <th>Target 0 - Grade</th>\n",
       "      <th>Target 1 - Гистологический класс</th>\n",
       "      <th>Target 2 - Крупный гистологический класс</th>\n",
       "      <th>Target 3 - Гистология и Grade</th>\n",
       "      <th>path</th>\n",
       "    </tr>\n",
       "  </thead>\n",
       "  <tbody>\n",
       "    <tr>\n",
       "      <th>0</th>\n",
       "      <td>НМИЦ_НХ_3-866</td>\n",
       "      <td>336969-737621-50861-12.10.2016.lt</td>\n",
       "      <td>Grade I</td>\n",
       "      <td>Пилоидная астроцитома</td>\n",
       "      <td>Астроцитома</td>\n",
       "      <td>Астроцитома Grade I</td>\n",
       "      <td>/root/histology_lib/data/processed_predicted_i...</td>\n",
       "    </tr>\n",
       "    <tr>\n",
       "      <th>1</th>\n",
       "      <td>НМИЦ_НХ_3-1193</td>\n",
       "      <td>392932-885537-60483.nd</td>\n",
       "      <td>Grade II</td>\n",
       "      <td>Диффузная астроцитома</td>\n",
       "      <td>Астроцитома</td>\n",
       "      <td>Астроцитома Grade II</td>\n",
       "      <td>/root/histology_lib/data/processed_predicted_i...</td>\n",
       "    </tr>\n",
       "    <tr>\n",
       "      <th>3</th>\n",
       "      <td>НМИЦ_НХ_3-624</td>\n",
       "      <td>233433-792188-54109-11.5.2017.lt</td>\n",
       "      <td>Grade III</td>\n",
       "      <td>Анапластическая астроцитома</td>\n",
       "      <td>Астроцитома</td>\n",
       "      <td>Астроцитома Grade III</td>\n",
       "      <td>/root/histology_lib/data/processed_predicted_i...</td>\n",
       "    </tr>\n",
       "    <tr>\n",
       "      <th>4</th>\n",
       "      <td>НМИЦ_НХ_3-484</td>\n",
       "      <td>203928-745881-51700-23.10.2015.lt</td>\n",
       "      <td>Grade IV</td>\n",
       "      <td>Глиобластома</td>\n",
       "      <td>Астроцитома</td>\n",
       "      <td>Астроцитома Grade IV</td>\n",
       "      <td>/root/histology_lib/data/processed_predicted_i...</td>\n",
       "    </tr>\n",
       "    <tr>\n",
       "      <th>5</th>\n",
       "      <td>НМИЦ_НХ_3-1170</td>\n",
       "      <td>373620-847750-57508.nd</td>\n",
       "      <td>Grade II</td>\n",
       "      <td>Плеоморфная ксантоастроцитома</td>\n",
       "      <td>Астроцитома</td>\n",
       "      <td>Астроцитома Grade II</td>\n",
       "      <td>/root/histology_lib/data/processed_predicted_i...</td>\n",
       "    </tr>\n",
       "    <tr>\n",
       "      <th>...</th>\n",
       "      <td>...</td>\n",
       "      <td>...</td>\n",
       "      <td>...</td>\n",
       "      <td>...</td>\n",
       "      <td>...</td>\n",
       "      <td>...</td>\n",
       "      <td>...</td>\n",
       "    </tr>\n",
       "    <tr>\n",
       "      <th>1043</th>\n",
       "      <td>НМИЦ_ НХ_ 2 -553</td>\n",
       "      <td>138044-334470-27680</td>\n",
       "      <td>Grade II</td>\n",
       "      <td>Диффузная астроцитома</td>\n",
       "      <td>Астроцитома</td>\n",
       "      <td>Астроцитома Grade II</td>\n",
       "      <td>/root/histology_lib/data/processed_predicted_i...</td>\n",
       "    </tr>\n",
       "    <tr>\n",
       "      <th>1044</th>\n",
       "      <td>НМИЦ_ НХ_ 2 -1391</td>\n",
       "      <td>207745-668511-46909</td>\n",
       "      <td>Grade II</td>\n",
       "      <td>Диффузная астроцитома</td>\n",
       "      <td>Астроцитома</td>\n",
       "      <td>Астроцитома Grade II</td>\n",
       "      <td>/root/histology_lib/data/processed_predicted_i...</td>\n",
       "    </tr>\n",
       "    <tr>\n",
       "      <th>1045</th>\n",
       "      <td>НМИЦ_ НХ_ 2 -1599</td>\n",
       "      <td>224808-601295-43261</td>\n",
       "      <td>Grade IV</td>\n",
       "      <td>Глиобластома</td>\n",
       "      <td>Астроцитома</td>\n",
       "      <td>Астроцитома Grade IV</td>\n",
       "      <td>/root/histology_lib/data/processed_predicted_i...</td>\n",
       "    </tr>\n",
       "    <tr>\n",
       "      <th>1046</th>\n",
       "      <td>НМИЦ_ НХ_ 2 -1646</td>\n",
       "      <td>228259-612562-43889</td>\n",
       "      <td>Grade IV</td>\n",
       "      <td>Глиобластома</td>\n",
       "      <td>Астроцитома</td>\n",
       "      <td>Астроцитома Grade IV</td>\n",
       "      <td>/root/histology_lib/data/processed_predicted_i...</td>\n",
       "    </tr>\n",
       "    <tr>\n",
       "      <th>1047</th>\n",
       "      <td>НМИЦ_ НХ_ 2 -1197</td>\n",
       "      <td>195108-499766-38111</td>\n",
       "      <td>Grade III</td>\n",
       "      <td>Анапластическая астроцитома</td>\n",
       "      <td>Астроцитома</td>\n",
       "      <td>Астроцитома Grade III</td>\n",
       "      <td>/root/histology_lib/data/processed_predicted_i...</td>\n",
       "    </tr>\n",
       "  </tbody>\n",
       "</table>\n",
       "<p>932 rows × 7 columns</p>\n",
       "</div>"
      ],
      "text/plain": [
       "                     ID                    Псевдоним папки Target 0 - Grade  \\\n",
       "0         НМИЦ_НХ_3-866  336969-737621-50861-12.10.2016.lt          Grade I   \n",
       "1        НМИЦ_НХ_3-1193             392932-885537-60483.nd         Grade II   \n",
       "3         НМИЦ_НХ_3-624   233433-792188-54109-11.5.2017.lt        Grade III   \n",
       "4         НМИЦ_НХ_3-484  203928-745881-51700-23.10.2015.lt         Grade IV   \n",
       "5        НМИЦ_НХ_3-1170             373620-847750-57508.nd         Grade II   \n",
       "...                 ...                                ...              ...   \n",
       "1043   НМИЦ_ НХ_ 2 -553                138044-334470-27680         Grade II   \n",
       "1044  НМИЦ_ НХ_ 2 -1391                207745-668511-46909         Grade II   \n",
       "1045  НМИЦ_ НХ_ 2 -1599                224808-601295-43261         Grade IV   \n",
       "1046  НМИЦ_ НХ_ 2 -1646                228259-612562-43889         Grade IV   \n",
       "1047  НМИЦ_ НХ_ 2 -1197                195108-499766-38111        Grade III   \n",
       "\n",
       "     Target 1 - Гистологический класс  \\\n",
       "0               Пилоидная астроцитома   \n",
       "1               Диффузная астроцитома   \n",
       "3         Анапластическая астроцитома   \n",
       "4                        Глиобластома   \n",
       "5       Плеоморфная ксантоастроцитома   \n",
       "...                               ...   \n",
       "1043            Диффузная астроцитома   \n",
       "1044            Диффузная астроцитома   \n",
       "1045                     Глиобластома   \n",
       "1046                     Глиобластома   \n",
       "1047      Анапластическая астроцитома   \n",
       "\n",
       "     Target 2 - Крупный гистологический класс Target 3 - Гистология и Grade  \\\n",
       "0                                 Астроцитома           Астроцитома Grade I   \n",
       "1                                 Астроцитома          Астроцитома Grade II   \n",
       "3                                 Астроцитома         Астроцитома Grade III   \n",
       "4                                 Астроцитома          Астроцитома Grade IV   \n",
       "5                                 Астроцитома          Астроцитома Grade II   \n",
       "...                                       ...                           ...   \n",
       "1043                              Астроцитома          Астроцитома Grade II   \n",
       "1044                              Астроцитома          Астроцитома Grade II   \n",
       "1045                              Астроцитома          Астроцитома Grade IV   \n",
       "1046                              Астроцитома          Астроцитома Grade IV   \n",
       "1047                              Астроцитома         Астроцитома Grade III   \n",
       "\n",
       "                                                   path  \n",
       "0     /root/histology_lib/data/processed_predicted_i...  \n",
       "1     /root/histology_lib/data/processed_predicted_i...  \n",
       "3     /root/histology_lib/data/processed_predicted_i...  \n",
       "4     /root/histology_lib/data/processed_predicted_i...  \n",
       "5     /root/histology_lib/data/processed_predicted_i...  \n",
       "...                                                 ...  \n",
       "1043  /root/histology_lib/data/processed_predicted_i...  \n",
       "1044  /root/histology_lib/data/processed_predicted_i...  \n",
       "1045  /root/histology_lib/data/processed_predicted_i...  \n",
       "1046  /root/histology_lib/data/processed_predicted_i...  \n",
       "1047  /root/histology_lib/data/processed_predicted_i...  \n",
       "\n",
       "[932 rows x 7 columns]"
      ]
     },
     "execution_count": 6,
     "metadata": {},
     "output_type": "execute_result"
    }
   ],
   "source": [
    "df[df.path != 'None']"
   ]
  },
  {
   "cell_type": "code",
   "execution_count": 12,
   "metadata": {},
   "outputs": [],
   "source": [
    "df[df.path != 'None'].to_csv(\"/root/histology_lib/data/train.csv\", index=None)"
   ]
  }
 ],
 "metadata": {
  "kernelspec": {
   "display_name": "Python 3.8.8 ('py38')",
   "language": "python",
   "name": "python3"
  },
  "language_info": {
   "codemirror_mode": {
    "name": "ipython",
    "version": 3
   },
   "file_extension": ".py",
   "mimetype": "text/x-python",
   "name": "python",
   "nbconvert_exporter": "python",
   "pygments_lexer": "ipython3",
   "version": "3.8.8"
  },
  "orig_nbformat": 4,
  "vscode": {
   "interpreter": {
    "hash": "3ea19d11efa7602c1f12500925a974ed4f31fcf847bd6f694bd5180da2602ded"
   }
  }
 },
 "nbformat": 4,
 "nbformat_minor": 2
}
